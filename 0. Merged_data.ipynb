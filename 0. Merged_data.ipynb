{
 "cells": [
  {
   "cell_type": "markdown",
   "metadata": {},
   "source": [
    "# 파일 불러오기"
   ]
  },
  {
   "cell_type": "code",
   "execution_count": 1,
   "metadata": {},
   "outputs": [
    {
     "name": "stderr",
     "output_type": "stream",
     "text": [
      "c:\\Users\\yujeo\\miniconda3\\envs\\ds_study\\lib\\site-packages\\numpy\\_distributor_init.py:30: UserWarning: loaded more than 1 DLL from .libs:\n",
      "c:\\Users\\yujeo\\miniconda3\\envs\\ds_study\\lib\\site-packages\\numpy\\.libs\\libopenblas.EL2C6PLE4ZYW3ECEVIV3OXXGRN2NRFM2.gfortran-win_amd64.dll\n",
      "c:\\Users\\yujeo\\miniconda3\\envs\\ds_study\\lib\\site-packages\\numpy\\.libs\\libopenblas.fb5ae2tyxyh2ijrdkgdgq3xbklktf43h.gfortran-win_amd64.dll\n",
      "c:\\Users\\yujeo\\miniconda3\\envs\\ds_study\\lib\\site-packages\\numpy\\.libs\\libopenblas64__v0.3.21-gcc_10_3_0.dll\n",
      "  warnings.warn(\"loaded more than 1 DLL from .libs:\"\n"
     ]
    }
   ],
   "source": [
    "import pandas as pd\n",
    "\n",
    "customers = pd.read_csv('./data/olist_customers_dataset.csv')\n",
    "geolocation = pd.read_csv('./data/olist_geolocation_dataset.csv')\n",
    "orders = pd.read_csv('./data/olist_orders_dataset.csv')\n",
    "order_items = pd.read_csv('./data/olist_order_items_dataset.csv')\n",
    "order_payments = pd.read_csv('./data/olist_order_payments_dataset.csv')\n",
    "order_reviews = pd.read_csv('./data/reviews_translated.csv')\n",
    "products = pd.read_csv('./data/olist_products_dataset.csv')\n",
    "sellers = pd.read_csv('./data/olist_sellers_dataset.csv')\n",
    "product_category_name_translation = pd.read_csv('./data/product_category_name_translation.csv')"
   ]
  },
  {
   "cell_type": "markdown",
   "metadata": {},
   "source": [
    "## 1. Orders 데이터"
   ]
  },
  {
   "cell_type": "markdown",
   "metadata": {},
   "source": [
    "* nan값 제거"
   ]
  },
  {
   "cell_type": "code",
   "execution_count": 2,
   "metadata": {},
   "outputs": [],
   "source": [
    "orders = orders.dropna() #null값 제거\n",
    "orders.reset_index(inplace=True, drop=True)"
   ]
  },
  {
   "cell_type": "markdown",
   "metadata": {},
   "source": [
    "* 컬럼 형변환 및 컬럼 추가"
   ]
  },
  {
   "cell_type": "code",
   "execution_count": 3,
   "metadata": {},
   "outputs": [],
   "source": [
    "time_columns = ['order_purchase_timestamp', 'order_approved_at', 'order_delivered_carrier_date', 'order_delivered_customer_date', 'order_estimated_delivery_date']\n",
    "orders[time_columns] = orders[time_columns].apply(pd.to_datetime) #시간 관련 컬럼 datetime으로 형변환\n",
    "\n",
    "orders['estimate_delivery_time_diff'] = orders['order_estimated_delivery_date'] - orders['order_delivered_customer_date'] #배송 예측 시간 차이\n",
    "orders['delivery_time'] = orders['order_estimated_delivery_date'] - orders['order_approved_at'] #배송시간"
   ]
  },
  {
   "cell_type": "markdown",
   "metadata": {},
   "source": [
    "* delivery_time 음수 값 제거"
   ]
  },
  {
   "cell_type": "code",
   "execution_count": 4,
   "metadata": {},
   "outputs": [],
   "source": [
    "orders = orders[orders['delivery_time'].dt.days>=0]\n",
    "orders.reset_index(inplace=True, drop=True)"
   ]
  },
  {
   "cell_type": "markdown",
   "metadata": {},
   "source": [
    "## 2. geolocation"
   ]
  },
  {
   "cell_type": "markdown",
   "metadata": {},
   "source": [
    "* 위도,경도 통일\n",
    "* 같은 우편번호에 위도,경도 값이 여러개 존재함\n",
    "* 좌표를 지도 상에 찍어보면 큰 차이가 없으므로 마지막 위도, 경도 값으로 대체"
   ]
  },
  {
   "cell_type": "code",
   "execution_count": 6,
   "metadata": {},
   "outputs": [
    {
     "data": {
      "text/html": [
       "<div>\n",
       "<style scoped>\n",
       "    .dataframe tbody tr th:only-of-type {\n",
       "        vertical-align: middle;\n",
       "    }\n",
       "\n",
       "    .dataframe tbody tr th {\n",
       "        vertical-align: top;\n",
       "    }\n",
       "\n",
       "    .dataframe thead th {\n",
       "        text-align: right;\n",
       "    }\n",
       "</style>\n",
       "<table border=\"1\" class=\"dataframe\">\n",
       "  <thead>\n",
       "    <tr style=\"text-align: right;\">\n",
       "      <th></th>\n",
       "      <th>geolocation_zip_code_prefix</th>\n",
       "      <th>geolocation_lat</th>\n",
       "      <th>geolocation_lng</th>\n",
       "      <th>geolocation_city</th>\n",
       "      <th>geolocation_state</th>\n",
       "    </tr>\n",
       "  </thead>\n",
       "  <tbody>\n",
       "    <tr>\n",
       "      <th>1</th>\n",
       "      <td>1046</td>\n",
       "      <td>-23.546081</td>\n",
       "      <td>-46.644820</td>\n",
       "      <td>sao paulo</td>\n",
       "      <td>SP</td>\n",
       "    </tr>\n",
       "    <tr>\n",
       "      <th>2</th>\n",
       "      <td>1046</td>\n",
       "      <td>-23.546129</td>\n",
       "      <td>-46.642951</td>\n",
       "      <td>sao paulo</td>\n",
       "      <td>SP</td>\n",
       "    </tr>\n",
       "    <tr>\n",
       "      <th>15</th>\n",
       "      <td>1046</td>\n",
       "      <td>-23.546081</td>\n",
       "      <td>-46.644820</td>\n",
       "      <td>sao paulo</td>\n",
       "      <td>SP</td>\n",
       "    </tr>\n",
       "    <tr>\n",
       "      <th>19</th>\n",
       "      <td>1046</td>\n",
       "      <td>-23.545884</td>\n",
       "      <td>-46.643163</td>\n",
       "      <td>sao paulo</td>\n",
       "      <td>SP</td>\n",
       "    </tr>\n",
       "    <tr>\n",
       "      <th>20</th>\n",
       "      <td>1046</td>\n",
       "      <td>-23.545166</td>\n",
       "      <td>-46.643786</td>\n",
       "      <td>sao paulo</td>\n",
       "      <td>SP</td>\n",
       "    </tr>\n",
       "    <tr>\n",
       "      <th>...</th>\n",
       "      <td>...</td>\n",
       "      <td>...</td>\n",
       "      <td>...</td>\n",
       "      <td>...</td>\n",
       "      <td>...</td>\n",
       "    </tr>\n",
       "    <tr>\n",
       "      <th>1432</th>\n",
       "      <td>1046</td>\n",
       "      <td>-23.545166</td>\n",
       "      <td>-46.643786</td>\n",
       "      <td>sao paulo</td>\n",
       "      <td>SP</td>\n",
       "    </tr>\n",
       "    <tr>\n",
       "      <th>1437</th>\n",
       "      <td>1046</td>\n",
       "      <td>-23.547191</td>\n",
       "      <td>-46.642923</td>\n",
       "      <td>sao paulo</td>\n",
       "      <td>SP</td>\n",
       "    </tr>\n",
       "    <tr>\n",
       "      <th>1439</th>\n",
       "      <td>1046</td>\n",
       "      <td>-23.545158</td>\n",
       "      <td>-46.643880</td>\n",
       "      <td>sao paulo</td>\n",
       "      <td>SP</td>\n",
       "    </tr>\n",
       "    <tr>\n",
       "      <th>1450</th>\n",
       "      <td>1046</td>\n",
       "      <td>-23.545292</td>\n",
       "      <td>-46.643130</td>\n",
       "      <td>sao paulo</td>\n",
       "      <td>SP</td>\n",
       "    </tr>\n",
       "    <tr>\n",
       "      <th>1457</th>\n",
       "      <td>1046</td>\n",
       "      <td>-23.545369</td>\n",
       "      <td>-46.643183</td>\n",
       "      <td>sao paulo</td>\n",
       "      <td>SP</td>\n",
       "    </tr>\n",
       "  </tbody>\n",
       "</table>\n",
       "<p>141 rows × 5 columns</p>\n",
       "</div>"
      ],
      "text/plain": [
       "      geolocation_zip_code_prefix  geolocation_lat  geolocation_lng  \\\n",
       "1                            1046       -23.546081       -46.644820   \n",
       "2                            1046       -23.546129       -46.642951   \n",
       "15                           1046       -23.546081       -46.644820   \n",
       "19                           1046       -23.545884       -46.643163   \n",
       "20                           1046       -23.545166       -46.643786   \n",
       "...                           ...              ...              ...   \n",
       "1432                         1046       -23.545166       -46.643786   \n",
       "1437                         1046       -23.547191       -46.642923   \n",
       "1439                         1046       -23.545158       -46.643880   \n",
       "1450                         1046       -23.545292       -46.643130   \n",
       "1457                         1046       -23.545369       -46.643183   \n",
       "\n",
       "     geolocation_city geolocation_state  \n",
       "1           sao paulo                SP  \n",
       "2           sao paulo                SP  \n",
       "15          sao paulo                SP  \n",
       "19          sao paulo                SP  \n",
       "20          sao paulo                SP  \n",
       "...               ...               ...  \n",
       "1432        sao paulo                SP  \n",
       "1437        sao paulo                SP  \n",
       "1439        sao paulo                SP  \n",
       "1450        sao paulo                SP  \n",
       "1457        sao paulo                SP  \n",
       "\n",
       "[141 rows x 5 columns]"
      ]
     },
     "execution_count": 6,
     "metadata": {},
     "output_type": "execute_result"
    }
   ],
   "source": [
    "geolocation[geolocation['geolocation_zip_code_prefix']==1046]"
   ]
  },
  {
   "cell_type": "code",
   "execution_count": 23,
   "metadata": {},
   "outputs": [],
   "source": [
    "geolocation = geolocation.drop_duplicates(['geolocation_zip_code_prefix'], keep='last')\n",
    "geolocation.reset_index(inplace=True, drop=True)"
   ]
  },
  {
   "cell_type": "markdown",
   "metadata": {},
   "source": [
    "## 3. products"
   ]
  },
  {
   "cell_type": "markdown",
   "metadata": {},
   "source": [
    "* nan값 제거"
   ]
  },
  {
   "cell_type": "code",
   "execution_count": 24,
   "metadata": {},
   "outputs": [],
   "source": [
    "products = products.dropna()\n",
    "products.reset_index(inplace=True, drop=True)"
   ]
  },
  {
   "cell_type": "markdown",
   "metadata": {},
   "source": [
    "* product name 포르투갈어 -> 영어로 변경"
   ]
  },
  {
   "cell_type": "code",
   "execution_count": 25,
   "metadata": {},
   "outputs": [],
   "source": [
    "products = products.merge(product_category_name_translation, on='product_category_name')\n",
    "del products['product_category_name']\n",
    "products.rename(columns={'product_category_name_english':'product_category_name'}, inplace=True)\n",
    "products = products[['product_id', 'product_category_name', 'product_weight_g', 'product_length_cm', 'product_height_cm', 'product_width_cm']]"
   ]
  },
  {
   "cell_type": "markdown",
   "metadata": {},
   "source": [
    "## 4. order_items"
   ]
  },
  {
   "cell_type": "markdown",
   "metadata": {},
   "source": [
    "* 상품 주문 수량 컬럼 생성"
   ]
  },
  {
   "cell_type": "code",
   "execution_count": 26,
   "metadata": {},
   "outputs": [],
   "source": [
    "#order_item_id를 제외하고 나머지 컬럼이 동일하다면 동일상품을 주문한 것이므로 order_item_id를 상품 주문 수량으로 생각하여 연산 \n",
    "order_items = order_items.groupby(['order_id', 'product_id', 'seller_id', 'shipping_limit_date', 'price','freight_value']).count()\n",
    "order_items.rename(columns= {'order_item_id': 'order_count'}, inplace=True) #order_item_id 컬럼명을 order_count로 변경\n",
    "order_items.reset_index(inplace=True)"
   ]
  },
  {
   "cell_type": "markdown",
   "metadata": {},
   "source": [
    "* 불필요한 컬럼 제거"
   ]
  },
  {
   "cell_type": "code",
   "execution_count": 27,
   "metadata": {},
   "outputs": [],
   "source": [
    "del order_items['shipping_limit_date']"
   ]
  },
  {
   "cell_type": "markdown",
   "metadata": {},
   "source": [
    "## 5. order_reviews"
   ]
  },
  {
   "cell_type": "markdown",
   "metadata": {},
   "source": [
    "* 불필요한 컬럼 제거"
   ]
  },
  {
   "cell_type": "code",
   "execution_count": 28,
   "metadata": {},
   "outputs": [],
   "source": [
    "del order_reviews['Unnamed: 0']\n",
    "del order_reviews['review_id']\n",
    "del order_reviews['review_creation_date']\n",
    "del order_reviews['review_answer_timestamp']"
   ]
  },
  {
   "cell_type": "markdown",
   "metadata": {},
   "source": [
    "## 6. order_payments"
   ]
  },
  {
   "cell_type": "markdown",
   "metadata": {},
   "source": [
    "### 다른 데이터와 merge할때 row의 중복이 많이 발생 -> 분할 결제 횟수만큼 row가 존재하여 merge할 경우 중복이 발생함\n",
    "### order_id를 기준으로 그룹화하여 payment_value의 합계로 merge함 "
   ]
  },
  {
   "cell_type": "markdown",
   "metadata": {},
   "source": [
    "#### order_id payment_value 총 합 = price * order_count + freight_value "
   ]
  },
  {
   "cell_type": "code",
   "execution_count": 29,
   "metadata": {},
   "outputs": [
    {
     "data": {
      "text/html": [
       "<div>\n",
       "<style scoped>\n",
       "    .dataframe tbody tr th:only-of-type {\n",
       "        vertical-align: middle;\n",
       "    }\n",
       "\n",
       "    .dataframe tbody tr th {\n",
       "        vertical-align: top;\n",
       "    }\n",
       "\n",
       "    .dataframe thead th {\n",
       "        text-align: right;\n",
       "    }\n",
       "</style>\n",
       "<table border=\"1\" class=\"dataframe\">\n",
       "  <thead>\n",
       "    <tr style=\"text-align: right;\">\n",
       "      <th></th>\n",
       "      <th>order_id</th>\n",
       "      <th>product_id</th>\n",
       "      <th>seller_id</th>\n",
       "      <th>price</th>\n",
       "      <th>freight_value</th>\n",
       "      <th>order_count</th>\n",
       "    </tr>\n",
       "  </thead>\n",
       "  <tbody>\n",
       "    <tr>\n",
       "      <th>91642</th>\n",
       "      <td>e481f51cbdc54678b7cc49136f2d6af7</td>\n",
       "      <td>87285b34884572647811a353c7ac498a</td>\n",
       "      <td>3504c0cb71d7fa48d967e0e4c94d59d9</td>\n",
       "      <td>29.99</td>\n",
       "      <td>8.72</td>\n",
       "      <td>1</td>\n",
       "    </tr>\n",
       "  </tbody>\n",
       "</table>\n",
       "</div>"
      ],
      "text/plain": [
       "                               order_id                        product_id  \\\n",
       "91642  e481f51cbdc54678b7cc49136f2d6af7  87285b34884572647811a353c7ac498a   \n",
       "\n",
       "                              seller_id  price  freight_value  order_count  \n",
       "91642  3504c0cb71d7fa48d967e0e4c94d59d9  29.99           8.72            1  "
      ]
     },
     "execution_count": 29,
     "metadata": {},
     "output_type": "execute_result"
    }
   ],
   "source": [
    "order_items[order_items['order_id']=='e481f51cbdc54678b7cc49136f2d6af7']"
   ]
  },
  {
   "cell_type": "code",
   "execution_count": 30,
   "metadata": {},
   "outputs": [
    {
     "data": {
      "text/plain": [
       "order_id\n",
       "e481f51cbdc54678b7cc49136f2d6af7    38.71\n",
       "Name: payment_value, dtype: float64"
      ]
     },
     "execution_count": 30,
     "metadata": {},
     "output_type": "execute_result"
    }
   ],
   "source": [
    "order_payments[order_payments['order_id']=='e481f51cbdc54678b7cc49136f2d6af7'].groupby('order_id')['payment_value'].sum()"
   ]
  },
  {
   "cell_type": "code",
   "execution_count": 31,
   "metadata": {},
   "outputs": [
    {
     "data": {
      "text/html": [
       "<div>\n",
       "<style scoped>\n",
       "    .dataframe tbody tr th:only-of-type {\n",
       "        vertical-align: middle;\n",
       "    }\n",
       "\n",
       "    .dataframe tbody tr th {\n",
       "        vertical-align: top;\n",
       "    }\n",
       "\n",
       "    .dataframe thead th {\n",
       "        text-align: right;\n",
       "    }\n",
       "</style>\n",
       "<table border=\"1\" class=\"dataframe\">\n",
       "  <thead>\n",
       "    <tr style=\"text-align: right;\">\n",
       "      <th></th>\n",
       "      <th>order_id</th>\n",
       "      <th>payment_sequential</th>\n",
       "      <th>payment_type</th>\n",
       "      <th>payment_installments</th>\n",
       "      <th>payment_value</th>\n",
       "    </tr>\n",
       "  </thead>\n",
       "  <tbody>\n",
       "    <tr>\n",
       "      <th>10770</th>\n",
       "      <td>e481f51cbdc54678b7cc49136f2d6af7</td>\n",
       "      <td>1</td>\n",
       "      <td>credit_card</td>\n",
       "      <td>1</td>\n",
       "      <td>18.12</td>\n",
       "    </tr>\n",
       "    <tr>\n",
       "      <th>44246</th>\n",
       "      <td>e481f51cbdc54678b7cc49136f2d6af7</td>\n",
       "      <td>3</td>\n",
       "      <td>voucher</td>\n",
       "      <td>1</td>\n",
       "      <td>2.00</td>\n",
       "    </tr>\n",
       "    <tr>\n",
       "      <th>91130</th>\n",
       "      <td>e481f51cbdc54678b7cc49136f2d6af7</td>\n",
       "      <td>2</td>\n",
       "      <td>voucher</td>\n",
       "      <td>1</td>\n",
       "      <td>18.59</td>\n",
       "    </tr>\n",
       "  </tbody>\n",
       "</table>\n",
       "</div>"
      ],
      "text/plain": [
       "                               order_id  payment_sequential payment_type  \\\n",
       "10770  e481f51cbdc54678b7cc49136f2d6af7                   1  credit_card   \n",
       "44246  e481f51cbdc54678b7cc49136f2d6af7                   3      voucher   \n",
       "91130  e481f51cbdc54678b7cc49136f2d6af7                   2      voucher   \n",
       "\n",
       "       payment_installments  payment_value  \n",
       "10770                     1          18.12  \n",
       "44246                     1           2.00  \n",
       "91130                     1          18.59  "
      ]
     },
     "execution_count": 31,
     "metadata": {},
     "output_type": "execute_result"
    }
   ],
   "source": [
    "order_payments[order_payments['order_id']=='e481f51cbdc54678b7cc49136f2d6af7']"
   ]
  },
  {
   "cell_type": "markdown",
   "metadata": {},
   "source": [
    "#### sum함수를 이용하여 그룹화"
   ]
  },
  {
   "cell_type": "code",
   "execution_count": 32,
   "metadata": {},
   "outputs": [],
   "source": [
    "type_str = []\n",
    "for i in order_payments['payment_type']: #sum을 했을 때, payment_type을 알아보기 쉽게 첫번째 알파벳만 표시\n",
    "    if i == 'credit_card':\n",
    "        type_str.append('c')\n",
    "    elif i == 'boleto':\n",
    "        type_str.append('b')\n",
    "    elif i == 'voucher':\n",
    "        type_str.append('v')\n",
    "    elif i == 'debit_card':\n",
    "        type_str.append('d')\n",
    "    elif i == 'not_defined':\n",
    "        type_str.append('n')\n",
    "\n",
    "order_payments['payment_type_str'] = type_str\n",
    "\n",
    "op = order_payments.groupby('order_id').aggregate({'payment_sequential':'max', 'payment_type_str':'sum', 'payment_installments':'max', 'payment_value':'sum'}) #그룹화\n",
    "op.reset_index(inplace=True)\n",
    "\n",
    "ts = []\n",
    "for strings in op['payment_type_str']: #중복되는 문자열 제거\n",
    "    x = \"\".join(sorted(set(strings), key=strings.index))\n",
    "    ts.append(x)\n",
    "\n",
    "op['payment_type_str'] = ts\n",
    "\n",
    "for i,row in op.iterrows(): #알파벳을 원래 단어로 변경\n",
    "    if row['payment_type_str'] =='c':\n",
    "        op.iloc[i,2] = 'credit_card'\n",
    "    elif row['payment_type_str'] == 'b':\n",
    "        op.iloc[i,2] = 'boleto'\n",
    "    elif row['payment_type_str'] == 'vc':\n",
    "        op.iloc[i,2] = 'voucher, credit_card'\n",
    "    elif row['payment_type_str'] == 'd':\n",
    "        op.iloc[i,2] = 'debit_card'\n",
    "    elif row['payment_type_str'] == 'n':\n",
    "        op.iloc[i,2] = 'not_defined'\n",
    "    elif row['payment_type_str'] == 'cv':\n",
    "        op.iloc[i,2] = 'credit_card, voucher'\n",
    "    elif row['payment_type_str'] == 'cd':\n",
    "        op.iloc[i,2] = 'credit_card, debit_card'\n",
    "    elif row['payment_type_str'] == 'v':\n",
    "        op.iloc[i,2] = 'voucher'\n",
    "\n",
    "op.rename(columns={'payment_type_str':'payment_type'}, inplace=True)"
   ]
  },
  {
   "cell_type": "markdown",
   "metadata": {},
   "source": [
    "# 전체 데이터 merge"
   ]
  },
  {
   "cell_type": "code",
   "execution_count": 60,
   "metadata": {},
   "outputs": [],
   "source": [
    "df = orders.merge(order_items, on='order_id') #order, order_items\n",
    "df = df.merge(products, on='product_id') #orders, order_items, products\n",
    "df = df.merge(customers, on='customer_id') #orders, order_items, products, customer\n",
    "df = df.merge(order_reviews, on='order_id') #orders, order_items, products, customer, order_reviews\n",
    "df = df.merge(sellers, on='seller_id') #orders, order_items, products, customer, order_reviews, sellers\n",
    "\n",
    "df = df.merge(geolocation, left_on='customer_zip_code_prefix', right_on='geolocation_zip_code_prefix') #customer zip_code 기준으로 병합\n",
    "del df['geolocation_zip_code_prefix'] #중복컬럼 제거\n",
    "del df['geolocation_city']\n",
    "del df['geolocation_state']\n",
    "df.rename(columns={'geolocation_lat':'customer_lat', 'geolocation_lng':'customer_lng'},inplace=True) #컬럼명 변경\n",
    "\n",
    "df = df.merge(geolocation, left_on='seller_zip_code_prefix', right_on='geolocation_zip_code_prefix') #seller zip_code 기준으로 병합\n",
    "del df['geolocation_zip_code_prefix'] #중복컬럼 제거\n",
    "del df['geolocation_city']\n",
    "del df['geolocation_state']\n",
    "df.rename(columns={'geolocation_lat':'seller_lat', 'geolocation_lng':'seller_lng'},inplace=True) #컬럼명 변경\n",
    "\n",
    "df = df.merge(op, on='order_id')"
   ]
  },
  {
   "cell_type": "code",
   "execution_count": 61,
   "metadata": {},
   "outputs": [],
   "source": [
    "df = df.drop_duplicates(keep='last')\n",
    "df.reset_index(inplace=True, drop=True)"
   ]
  },
  {
   "cell_type": "markdown",
   "metadata": {},
   "source": [
    "# 파일 저장"
   ]
  },
  {
   "cell_type": "code",
   "execution_count": 242,
   "metadata": {},
   "outputs": [],
   "source": [
    "df.to_csv('./data/df_merged.csv', index=False)"
   ]
  }
 ],
 "metadata": {
  "kernelspec": {
   "display_name": "ds_study",
   "language": "python",
   "name": "python3"
  },
  "language_info": {
   "codemirror_mode": {
    "name": "ipython",
    "version": 3
   },
   "file_extension": ".py",
   "mimetype": "text/x-python",
   "name": "python",
   "nbconvert_exporter": "python",
   "pygments_lexer": "ipython3",
   "version": "3.8.18"
  },
  "orig_nbformat": 4
 },
 "nbformat": 4,
 "nbformat_minor": 2
}
